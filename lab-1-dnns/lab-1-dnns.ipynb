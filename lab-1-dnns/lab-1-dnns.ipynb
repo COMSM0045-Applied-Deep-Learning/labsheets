{
 "cells": [
  {
   "cell_type": "markdown",
   "metadata": {},
   "source": [
    "# Lab 1: BC4 and your first neural network\n",
    "\n",
    "In this lab session we aim to accomplish the following:\n",
    "\n",
    "- Set up a Colaboratory account for playing around with PyTorch interactively.\n",
    "- Show you the basics of PyTorch through the implementation of a multilayer perceptron/fully connected deep network.\n",
    "- Introduce you to BlueCrystal 4, showing you how to run interactive sessions on a compute node.\n",
    "- Introduce you to Tensorboard for visualising metrics throughout the training process.\n",
    "\n",
    "First we will introduce you to PyTorch inside a Colaboratory notebook (a Google hosted version of Jupyter notebooks), ideal for playing around and exploring the library. Next we will show you how to build a deep network and train it inside of a notebook on Colaboratory. We will then port the code out of the notebook into a script and run it on a GPU on BC4. Finally, we will add logging of performance metrics to the code to enable you track the progress of training the network.\n",
    "\n",
    "### Contents\n",
    "1. [Iris Flower Dataset - A 3-way classification problem](#Iris-Flower-Dataset)\n",
    "2. [Colaboratory notebooks](#Colaboratory-notebooks)\n",
    "3. [Intro to PyTorch](#PyTorch-Intro)\n",
    "4. [Your first DNN](#Building-Your-First-Fully-Connected-Network)\n",
    "5. [Porting the network to a script and running on BC4](#Porting-Your-Network-To-BC4)\n",
    "6. [Logging metrics with TensorBoard](#Logging-Performance-Metrics)\n",
    "7. [Optional Extension: Implementing library functions](#Optional-Extension:-Implementing-library-functions)\n"
   ]
  },
  {
   "cell_type": "markdown",
   "metadata": {},
   "source": [
    "## Iris Flower Dataset\n",
    "\n",
    "In 1936, British geneticist Ronald Fisher collected the Iris Flower Dataset [Wiki](https://en.wikipedia.org/wiki/Iris_flower_data_set)\n",
    "\n",
    "It contains 150 samples of three types of Iris flowers. Each sample is described using four dimensions: the height and width of its sepals and petals. Follow the wikipedia link above to look at the Iris dataset file and understand the various dimensions.\n",
    "\n",
    "The aim of this lab is to classify the Iris flow dataset, using a fully connected *deep* network. We will actually build a shallow one of 2 layers only, but the principles extend to any depth. "
   ]
  },
  {
   "cell_type": "markdown",
   "metadata": {},
   "source": [
    "--- \n",
    "## Colaboratory notebooks\n",
    "\n",
    "Head over to https://colab.research.google.com and sign in with a Google account.\n",
    "\n",
    "You should see something similar to the image below:\n",
    "\n",
    "<img src=\"./media/colaboratory.png\" width=\"900\">\n",
    "\n",
    "Go to *File > New Python 3 Notebook*, it should prompt you to sign in with your google account.\n",
    "\n",
    "In the first cell type the following\n",
    "\n",
    "```python\n",
    "import torch\n",
    "torch.__version__\n",
    "```\n",
    "\n",
    "and click the play button to the left of the cell to run the code (Alternatively, pressing `<Ctrl>-<Enter>` will also run the code).\n",
    "\n",
    "<img src=\"./media/colaboratory-notebook.png\" width=\"700\">\n",
    "\n",
    "You should get *at least* version `1.1.0`, more likely you will get `1.6.0`.\n",
    "\n",
    "You can add new cells to the notebook by clicking the *+ Code* button in the toolbar."
   ]
  },
  {
   "cell_type": "markdown",
   "metadata": {},
   "source": [
    "--- \n",
    "## PyTorch Intro\n",
    "\n",
    "In this section we will introduce you in a hands on way to PyTorch. Keep this notebook open alongside your Colaboratory notebook and for each code cell in this notebook, you should write out the code in the Colaboratory notebook, executing the code as you progress and ensuring you get the same output as listed below the relevant cell in this notebook."
   ]
  },
  {
   "cell_type": "markdown",
   "metadata": {},
   "source": [
    "PyTorch is a lot like numpy, it has a notion of an N-dimensional array like in numpy, but it is instead called a tensor. Tensors generalise scalar, vectors, and matrices. A scalar is a 0D tensor, a vector is a 1D tensor, and a matrix is a 2D tensor."
   ]
  },
  {
   "cell_type": "code",
   "execution_count": null,
   "metadata": {},
   "outputs": [
    {
     "name": "stdout",
     "output_type": "stream",
     "text": [
      "[[1 2 3]\n",
      " [4 5 6]]\n",
      "tensor([[1, 2, 3],\n",
      "        [4, 5, 6]])\n"
     ]
    }
   ],
   "source": [
    "import torch\n",
    "import numpy as np\n",
    "\n",
    "array_np = np.array([[1, 2, 3],\n",
    "                     [4, 5, 6]])\n",
    "array_pytorch = torch.tensor([[1, 2, 3],\n",
    "                              [4, 5, 6]])\n",
    "print(array_np)\n",
    "print(array_pytorch)"
   ]
  },
  {
   "cell_type": "markdown",
   "metadata": {},
   "source": [
    "Now we'll demonstrate some of the operations defined on tensors. Check out the docs for [`torch.Tensor`](https://pytorch.org/docs/stable/tensors.html) and [`torch`](https://pytorch.org/docs/stable/torch.html) for details. "
   ]
  },
  {
   "cell_type": "code",
   "execution_count": null,
   "metadata": {},
   "outputs": [],
   "source": [
    "x = torch.tensor([1, 2, 3], dtype=torch.float32)\n",
    "y = torch.tensor([4, 5, 6], dtype=torch.float32)"
   ]
  },
  {
   "cell_type": "code",
   "execution_count": null,
   "metadata": {},
   "outputs": [
    {
     "data": {
      "text/plain": [
       "torch.Size([3])"
      ]
     },
     "execution_count": 3,
     "metadata": {},
     "output_type": "execute_result"
    }
   ],
   "source": [
    "x.shape  # what are the dimensions of the tensor?"
   ]
  },
  {
   "cell_type": "code",
   "execution_count": null,
   "metadata": {},
   "outputs": [
    {
     "data": {
      "text/plain": [
       "1"
      ]
     },
     "execution_count": 4,
     "metadata": {},
     "output_type": "execute_result"
    }
   ],
   "source": [
    "x.dim()  # how many dimensions does the tensor have?"
   ]
  },
  {
   "cell_type": "code",
   "execution_count": null,
   "metadata": {
    "scrolled": true
   },
   "outputs": [
    {
     "data": {
      "text/plain": [
       "tensor([5., 7., 9.])"
      ]
     },
     "execution_count": 5,
     "metadata": {},
     "output_type": "execute_result"
    }
   ],
   "source": [
    "x + y # + performs elementwise addition"
   ]
  },
  {
   "cell_type": "code",
   "execution_count": null,
   "metadata": {},
   "outputs": [
    {
     "data": {
      "text/plain": [
       "tensor([ 4., 10., 18.])"
      ]
     },
     "execution_count": 6,
     "metadata": {},
     "output_type": "execute_result"
    }
   ],
   "source": [
    "x * y  # * performs elementwise multiplication "
   ]
  },
  {
   "cell_type": "code",
   "execution_count": null,
   "metadata": {},
   "outputs": [
    {
     "data": {
      "text/plain": [
       "tensor([0.2500, 0.4000, 0.5000])"
      ]
     },
     "execution_count": 7,
     "metadata": {},
     "output_type": "execute_result"
    }
   ],
   "source": [
    "x / y  # / performs elementwise division"
   ]
  },
  {
   "cell_type": "code",
   "execution_count": null,
   "metadata": {},
   "outputs": [
    {
     "data": {
      "text/plain": [
       "tensor(32.)"
      ]
     },
     "execution_count": 8,
     "metadata": {},
     "output_type": "execute_result"
    }
   ],
   "source": [
    "torch.dot(x, y)  # compute the scalar product of two vectors"
   ]
  },
  {
   "cell_type": "code",
   "execution_count": null,
   "metadata": {},
   "outputs": [
    {
     "data": {
      "text/plain": [
       "0"
      ]
     },
     "execution_count": 9,
     "metadata": {},
     "output_type": "execute_result"
    }
   ],
   "source": [
    "torch.dot(x, y).dim() # this is a 0D tensor or a scalar"
   ]
  },
  {
   "cell_type": "code",
   "execution_count": null,
   "metadata": {},
   "outputs": [
    {
     "data": {
      "text/plain": [
       "32.0"
      ]
     },
     "execution_count": 10,
     "metadata": {},
     "output_type": "execute_result"
    }
   ],
   "source": [
    "# note how `torch.dot(x, y)` produces a scalar, yet this is still wrapped in a tensor\n",
    "# to get the raw scalar value, call .item() on the tensor. This is so pytorch can \n",
    "# track the operations applied to even scalar values.\n",
    "torch.dot(x, y).item()"
   ]
  },
  {
   "cell_type": "code",
   "execution_count": null,
   "metadata": {},
   "outputs": [
    {
     "data": {
      "text/plain": [
       "tensor(2.)"
      ]
     },
     "execution_count": 11,
     "metadata": {},
     "output_type": "execute_result"
    }
   ],
   "source": [
    "x.mean()"
   ]
  },
  {
   "cell_type": "code",
   "execution_count": null,
   "metadata": {},
   "outputs": [
    {
     "data": {
      "text/plain": [
       "tensor(1.)"
      ]
     },
     "execution_count": 12,
     "metadata": {},
     "output_type": "execute_result"
    }
   ],
   "source": [
    "x.std()"
   ]
  },
  {
   "cell_type": "code",
   "execution_count": null,
   "metadata": {},
   "outputs": [
    {
     "data": {
      "text/plain": [
       "tensor(3.)"
      ]
     },
     "execution_count": 13,
     "metadata": {},
     "output_type": "execute_result"
    }
   ],
   "source": [
    "x.max()"
   ]
  },
  {
   "cell_type": "code",
   "execution_count": null,
   "metadata": {},
   "outputs": [
    {
     "data": {
      "text/plain": [
       "tensor(2)"
      ]
     },
     "execution_count": 14,
     "metadata": {},
     "output_type": "execute_result"
    }
   ],
   "source": [
    "x.argmax()  # the index of the maximum element of the tensor"
   ]
  },
  {
   "cell_type": "code",
   "execution_count": null,
   "metadata": {},
   "outputs": [
    {
     "data": {
      "text/plain": [
       "tensor([[0, 1, 2],\n",
       "        [3, 4, 5],\n",
       "        [6, 7, 8]])"
      ]
     },
     "execution_count": 15,
     "metadata": {},
     "output_type": "execute_result"
    }
   ],
   "source": [
    "y = x = torch.arange(0, 9).reshape((3, 3))\n",
    "x"
   ]
  },
  {
   "cell_type": "code",
   "execution_count": null,
   "metadata": {},
   "outputs": [
    {
     "data": {
      "text/plain": [
       "torch.Size([3, 3])"
      ]
     },
     "execution_count": 16,
     "metadata": {},
     "output_type": "execute_result"
    }
   ],
   "source": [
    "x.shape"
   ]
  },
  {
   "cell_type": "code",
   "execution_count": null,
   "metadata": {},
   "outputs": [
    {
     "data": {
      "text/plain": [
       "2"
      ]
     },
     "execution_count": 17,
     "metadata": {},
     "output_type": "execute_result"
    }
   ],
   "source": [
    "x.dim()"
   ]
  },
  {
   "cell_type": "code",
   "execution_count": null,
   "metadata": {
    "scrolled": true
   },
   "outputs": [
    {
     "data": {
      "text/plain": [
       "tensor([[ 15,  18,  21],\n",
       "        [ 42,  54,  66],\n",
       "        [ 69,  90, 111]])"
      ]
     },
     "execution_count": 18,
     "metadata": {},
     "output_type": "execute_result"
    }
   ],
   "source": [
    "x @ y  # Matrix multiplication"
   ]
  },
  {
   "cell_type": "code",
   "execution_count": null,
   "metadata": {},
   "outputs": [
    {
     "data": {
      "text/plain": [
       "torch.Size([2, 3, 1, 10, 10])"
      ]
     },
     "execution_count": 19,
     "metadata": {},
     "output_type": "execute_result"
    }
   ],
   "source": [
    "x = torch.randn((2, 3, 1, 10, 10))\n",
    "x.shape"
   ]
  },
  {
   "cell_type": "code",
   "execution_count": null,
   "metadata": {},
   "outputs": [
    {
     "data": {
      "text/plain": [
       "torch.Size([2, 3, 10, 10])"
      ]
     },
     "execution_count": 20,
     "metadata": {},
     "output_type": "execute_result"
    }
   ],
   "source": [
    "x.squeeze().shape  # squeeze remove dimensions of size one."
   ]
  },
  {
   "cell_type": "code",
   "execution_count": null,
   "metadata": {},
   "outputs": [
    {
     "data": {
      "text/plain": [
       "torch.Size([2, 3, 1, 10, 1, 10])"
      ]
     },
     "execution_count": 21,
     "metadata": {},
     "output_type": "execute_result"
    }
   ],
   "source": [
    "x.unsqueeze(dim=4).shape  # unsqueeze adds a new dimension of size one at dimensional index `dim`."
   ]
  },
  {
   "cell_type": "code",
   "execution_count": null,
   "metadata": {},
   "outputs": [
    {
     "data": {
      "text/plain": [
       "tensor([[[ 0,  1,  2,  3,  4,  5,  6,  7,  8,  9],\n",
       "         [10, 11, 12, 13, 14, 15, 16, 17, 18, 19],\n",
       "         [20, 21, 22, 23, 24, 25, 26, 27, 28, 29],\n",
       "         [30, 31, 32, 33, 34, 35, 36, 37, 38, 39],\n",
       "         [40, 41, 42, 43, 44, 45, 46, 47, 48, 49]],\n",
       "\n",
       "        [[50, 51, 52, 53, 54, 55, 56, 57, 58, 59],\n",
       "         [60, 61, 62, 63, 64, 65, 66, 67, 68, 69],\n",
       "         [70, 71, 72, 73, 74, 75, 76, 77, 78, 79],\n",
       "         [80, 81, 82, 83, 84, 85, 86, 87, 88, 89],\n",
       "         [90, 91, 92, 93, 94, 95, 96, 97, 98, 99]]])"
      ]
     },
     "execution_count": 22,
     "metadata": {},
     "output_type": "execute_result"
    }
   ],
   "source": [
    "x = torch.arange(0, 100).reshape((2, 5, 10))\n",
    "x"
   ]
  },
  {
   "cell_type": "code",
   "execution_count": null,
   "metadata": {},
   "outputs": [
    {
     "data": {
      "text/plain": [
       "tensor([[ 0,  1,  2,  3,  4,  5,  6,  7,  8,  9],\n",
       "        [10, 11, 12, 13, 14, 15, 16, 17, 18, 19],\n",
       "        [20, 21, 22, 23, 24, 25, 26, 27, 28, 29],\n",
       "        [30, 31, 32, 33, 34, 35, 36, 37, 38, 39],\n",
       "        [40, 41, 42, 43, 44, 45, 46, 47, 48, 49],\n",
       "        [50, 51, 52, 53, 54, 55, 56, 57, 58, 59],\n",
       "        [60, 61, 62, 63, 64, 65, 66, 67, 68, 69],\n",
       "        [70, 71, 72, 73, 74, 75, 76, 77, 78, 79],\n",
       "        [80, 81, 82, 83, 84, 85, 86, 87, 88, 89],\n",
       "        [90, 91, 92, 93, 94, 95, 96, 97, 98, 99]])"
      ]
     },
     "execution_count": 23,
     "metadata": {},
     "output_type": "execute_result"
    }
   ],
   "source": [
    "x.reshape((10, 10))  # We can squash any number of dimensions into one using reshape"
   ]
  },
  {
   "cell_type": "code",
   "execution_count": null,
   "metadata": {},
   "outputs": [
    {
     "name": "stdout",
     "output_type": "stream",
     "text": [
      "tensor([[100,   1,   2,   3,   4,   5,   6,   7,   8,   9],\n",
      "        [ 10,  11,  12,  13,  14,  15,  16,  17,  18,  19],\n",
      "        [ 20,  21,  22,  23,  24,  25,  26,  27,  28,  29],\n",
      "        [ 30,  31,  32,  33,  34,  35,  36,  37,  38,  39],\n",
      "        [ 40,  41,  42,  43,  44,  45,  46,  47,  48,  49],\n",
      "        [ 50,  51,  52,  53,  54,  55,  56,  57,  58,  59],\n",
      "        [ 60,  61,  62,  63,  64,  65,  66,  67,  68,  69],\n",
      "        [ 70,  71,  72,  73,  74,  75,  76,  77,  78,  79],\n",
      "        [ 80,  81,  82,  83,  84,  85,  86,  87,  88,  89],\n",
      "        [ 90,  91,  92,  93,  94,  95,  96,  97,  98,  99]])\n",
      "tensor([[[100,   1,   2,   3,   4,   5,   6,   7,   8,   9],\n",
      "         [ 10,  11,  12,  13,  14,  15,  16,  17,  18,  19],\n",
      "         [ 20,  21,  22,  23,  24,  25,  26,  27,  28,  29],\n",
      "         [ 30,  31,  32,  33,  34,  35,  36,  37,  38,  39],\n",
      "         [ 40,  41,  42,  43,  44,  45,  46,  47,  48,  49]],\n",
      "\n",
      "        [[ 50,  51,  52,  53,  54,  55,  56,  57,  58,  59],\n",
      "         [ 60,  61,  62,  63,  64,  65,  66,  67,  68,  69],\n",
      "         [ 70,  71,  72,  73,  74,  75,  76,  77,  78,  79],\n",
      "         [ 80,  81,  82,  83,  84,  85,  86,  87,  88,  89],\n",
      "         [ 90,  91,  92,  93,  94,  95,  96,  97,  98,  99]]])\n"
     ]
    }
   ],
   "source": [
    "# Reshaping doesn't create new data, it produces a view on existing data,\n",
    "# if you update that data, you'll update the old tensors it came from.\n",
    "\n",
    "y = x.reshape((10, 10))\n",
    "y[0, 0] = 100\n",
    "print(y)\n",
    "print(x)  # notice that the data in x has changed too!"
   ]
  },
  {
   "cell_type": "markdown",
   "metadata": {},
   "source": [
    "We've really on scratched the surface of the functionality provided PyTorch. Before implementing something yourself, it's always worth scanning through the documentation to check if PyTorch already provides an implementation."
   ]
  },
  {
   "cell_type": "markdown",
   "metadata": {},
   "source": [
    "--- \n",
    "## Building Your First Fully Connected Network"
   ]
  },
  {
   "cell_type": "markdown",
   "metadata": {},
   "source": [
    "Now you've got to know the basics of pytorch, we can implement a 2-layer fully connected network (a.k.a MultiLayer Percepton) and train it using gradient descent.\n",
    "\n",
    "First we need to load in our data. We will use [scikit-learn](https://scikit-learn.org/stable/) for this as it bundles the iris dataset."
   ]
  },
  {
   "cell_type": "code",
   "execution_count": null,
   "metadata": {},
   "outputs": [
    {
     "data": {
      "text/plain": [
       "dict_keys(['data', 'target', 'target_names', 'DESCR', 'feature_names', 'filename'])"
      ]
     },
     "execution_count": 25,
     "metadata": {},
     "output_type": "execute_result"
    }
   ],
   "source": [
    "from sklearn import datasets\n",
    "iris = datasets.load_iris()  # datasets are stored in a dictionary containing an array of features and targets\n",
    "iris.keys()"
   ]
  },
  {
   "cell_type": "markdown",
   "metadata": {},
   "source": [
    "The data is stored in a float64 numpy array with 150 rows of 4 columns. Each row is a data sample, in this case a flower, and each column is a feature of that data sample."
   ]
  },
  {
   "cell_type": "code",
   "execution_count": null,
   "metadata": {},
   "outputs": [
    {
     "data": {
      "text/plain": [
       "((150, 4), dtype('float64'))"
      ]
     },
     "execution_count": 26,
     "metadata": {},
     "output_type": "execute_result"
    }
   ],
   "source": [
    "iris['data'].shape, iris['data'].dtype"
   ]
  },
  {
   "cell_type": "markdown",
   "metadata": {},
   "source": [
    "What do the first 15 examples look like? "
   ]
  },
  {
   "cell_type": "code",
   "execution_count": null,
   "metadata": {},
   "outputs": [
    {
     "data": {
      "text/plain": [
       "array([[5.1, 3.5, 1.4, 0.2],\n",
       "       [4.9, 3. , 1.4, 0.2],\n",
       "       [4.7, 3.2, 1.3, 0.2],\n",
       "       [4.6, 3.1, 1.5, 0.2],\n",
       "       [5. , 3.6, 1.4, 0.2],\n",
       "       [5.4, 3.9, 1.7, 0.4],\n",
       "       [4.6, 3.4, 1.4, 0.3],\n",
       "       [5. , 3.4, 1.5, 0.2],\n",
       "       [4.4, 2.9, 1.4, 0.2],\n",
       "       [4.9, 3.1, 1.5, 0.1],\n",
       "       [5.4, 3.7, 1.5, 0.2],\n",
       "       [4.8, 3.4, 1.6, 0.2],\n",
       "       [4.8, 3. , 1.4, 0.1],\n",
       "       [4.3, 3. , 1.1, 0.1],\n",
       "       [5.8, 4. , 1.2, 0.2]])"
      ]
     },
     "execution_count": 27,
     "metadata": {},
     "output_type": "execute_result"
    }
   ],
   "source": [
    "iris['data'][:15]"
   ]
  },
  {
   "cell_type": "markdown",
   "metadata": {},
   "source": [
    "What do each of the columns correspond to? "
   ]
  },
  {
   "cell_type": "code",
   "execution_count": null,
   "metadata": {},
   "outputs": [
    {
     "data": {
      "text/plain": [
       "['sepal length (cm)',\n",
       " 'sepal width (cm)',\n",
       " 'petal length (cm)',\n",
       " 'petal width (cm)']"
      ]
     },
     "execution_count": 28,
     "metadata": {},
     "output_type": "execute_result"
    }
   ],
   "source": [
    "iris['feature_names']"
   ]
  },
  {
   "cell_type": "markdown",
   "metadata": {},
   "source": [
    "The labels for the data are in a separate array called *target*."
   ]
  },
  {
   "cell_type": "markdown",
   "metadata": {},
   "source": [
    "How many classes do we have?"
   ]
  },
  {
   "cell_type": "code",
   "execution_count": null,
   "metadata": {},
   "outputs": [
    {
     "data": {
      "text/plain": [
       "array([0, 1, 2])"
      ]
     },
     "execution_count": 29,
     "metadata": {},
     "output_type": "execute_result"
    }
   ],
   "source": [
    "np.unique(iris['target'])"
   ]
  },
  {
   "cell_type": "markdown",
   "metadata": {},
   "source": [
    "What do the labels correspond to?"
   ]
  },
  {
   "cell_type": "code",
   "execution_count": null,
   "metadata": {},
   "outputs": [
    {
     "data": {
      "text/plain": [
       "array(['setosa', 'versicolor', 'virginica'], dtype='<U10')"
      ]
     },
     "execution_count": 30,
     "metadata": {},
     "output_type": "execute_result"
    }
   ],
   "source": [
    "iris['target_names']"
   ]
  },
  {
   "cell_type": "markdown",
   "metadata": {},
   "source": [
    "Let's visualise the data to see what it looks like."
   ]
  },
  {
   "cell_type": "code",
   "execution_count": null,
   "metadata": {},
   "outputs": [
    {
     "data": {
      "text/plain": [
       "<seaborn.axisgrid.PairGrid at 0x7f1ece2c1110>"
      ]
     },
     "execution_count": 31,
     "metadata": {},
     "output_type": "execute_result"
    },
    {
     "data": {
      "image/png": "[encoded data removed]",
      "text/plain": [
       "<Figure size 804.75x720 with 20 Axes>"
      ]
     },
     "metadata": {
      "needs_background": "light"
     },
     "output_type": "display_data"
    }
   ],
   "source": [
    "%matplotlib inline\n",
    "import seaborn as sns\n",
    "import pandas as pd\n",
    "\n",
    "features_df = pd.DataFrame(\n",
    "    iris['data'],\n",
    "    columns=iris['feature_names']\n",
    ")\n",
    "features_df['label'] = iris['target_names'][iris['target']]\n",
    "sns.pairplot(features_df, hue='label')"
   ]
  },
  {
   "cell_type": "markdown",
   "metadata": {},
   "source": [
    "Typically we normalise features input to networks as this helps speed learning up as the loss landscape becomes easier to traverse (for more details see slides 11-13 in [lecture 6 of Geoff Hinton's course](https://www.cs.toronto.edu/~tijmen/csc321/slides/lecture_slides_lec6.pdf))."
   ]
  },
  {
   "cell_type": "code",
   "execution_count": null,
   "metadata": {
    "collapsed": true,
    "jupyter": {
     "outputs_hidden": true
    }
   },
   "outputs": [],
   "source": [
    "preprocessed_features = (iris['data'] - iris['data'].mean(axis=0)) / iris['data'].std(axis=0)"
   ]
  },
  {
   "cell_type": "markdown",
   "metadata": {},
   "source": [
    "Next we want to split this into a training and testing split.\n",
    "\n",
    "**Question**: Why do we want to do this?"
   ]
  },
  {
   "cell_type": "markdown",
   "metadata": {},
   "source": [
    "First we need to shuffle the data\n",
    "\n",
    "**Question**: Why do we need to shuffle before splitting it? Hint: take a look at the entire dataset array."
   ]
  },
  {
   "cell_type": "code",
   "execution_count": null,
   "metadata": {},
   "outputs": [],
   "source": [
    "from sklearn.model_selection import train_test_split\n",
    "\n",
    "labels = iris['target']\n",
    "# train_test_split takes care of the shuffling and splitting process\n",
    "train_features, test_features, train_labels, test_labels = train_test_split(preprocessed_features, labels, test_size=1/3)"
   ]
  },
  {
   "cell_type": "markdown",
   "metadata": {},
   "source": [
    "Finally, we need to take our numpy arrays and put them into tensors for processing by PyTorch."
   ]
  },
  {
   "cell_type": "code",
   "execution_count": null,
   "metadata": {
    "collapsed": true,
    "jupyter": {
     "outputs_hidden": true
    }
   },
   "outputs": [],
   "source": [
    "features = {\n",
    "    'train': torch.tensor(train_features, dtype=torch.float32),\n",
    "    'test': torch.tensor(test_features, dtype=torch.float32),\n",
    "}\n",
    "labels = {\n",
    "    'train': torch.tensor(train_labels, dtype=torch.long),\n",
    "    'test': torch.tensor(test_labels, dtype=torch.long),\n",
    "}"
   ]
  },
  {
   "cell_type": "markdown",
   "metadata": {},
   "source": [
    "Now we need to create a fully connected layer that takes an input $x$, and trainable weights $W$ and biases $b$ and computes\n",
    "\n",
    "$$Wx + b$$\n",
    "\n",
    "PyTorch has a library of common layer types including a fully connected layer, its class name is `Linear` as the layer produces a linear transformation of the input data.\n",
    "\n",
    "We have a single fully connected layer, but we want to stack these to produce a neural network composed of two layers (a.k.a Multi-layer Perceptron or MLP):\n",
    "\n",
    "* Input size: 4 features\n",
    "* Hidden layer size: 100 units\n",
    "* Output size: 3 classes\n",
    "\n",
    "We need to put a non-linear function in between these two layers as otherwise the transformation is just as powerful in representational capacity as a linear classifier. We want to produce non-linear decision boundaries as these will better fit our data."
   ]
  },
  {
   "cell_type": "markdown",
   "metadata": {},
   "source": [
    "Now we can define a MLP class that brings together 2 fully connected layers with a ReLU on the output of the first layer."
   ]
  },
  {
   "cell_type": "code",
   "execution_count": null,
   "metadata": {
    "collapsed": true,
    "jupyter": {
     "outputs_hidden": true
    }
   },
   "outputs": [],
   "source": [
    "from torch import nn\n",
    "from torch.nn import functional as F\n",
    "from typing import Callable\n",
    "\n",
    "\n",
    "class MLP(nn.Module):\n",
    "    def __init__(self,\n",
    "                 input_size: int,\n",
    "                 hidden_layer_size: int,\n",
    "                 output_size: int,\n",
    "                 activation_fn: Callable[[torch.Tensor], torch.Tensor] = F.relu):\n",
    "        super().__init__()\n",
    "        self.l1 = nn.Linear(input_size, hidden_layer_size)\n",
    "        self.l2 = nn.Linear(hidden_layer_size, output_size)\n",
    "        self.activation_fn = activation_fn\n",
    "        \n",
    "    def forward(self, inputs: torch.Tensor) -> torch.Tensor:\n",
    "        x = self.l1(inputs)\n",
    "        x = self.activation_fn(x)\n",
    "        x = self.l2(x)\n",
    "        return x"
   ]
  },
  {
   "cell_type": "markdown",
   "metadata": {},
   "source": [
    "Let's deconstruct the signature of the `forward` method\n",
    "\n",
    "```python\n",
    "def forward(self, inputs: torch.Tensor) -> torch.Tensor:\n",
    "    ...\n",
    "```\n",
    "\n",
    "`inputs: torch.Tensor` says that the parameter `inputs` is of type `torch.Tensor`. The return type of the method is denoted by `-> torch.Tensor` stating that the method returns a tensor."
   ]
  },
  {
   "cell_type": "markdown",
   "metadata": {},
   "source": [
    "We use a generic type `Callable` which defines the type of a function, it has the format `Callable[[args], return_type]`. `activation_fn: Callable[[torch.Tensor], torch.Tensor]` means that `activation_fn` should be a function that takes in a single argument of type `torch.Tensor` and returns a `torch.Tensor`. We've also defined the default value of this parameter to be `F.relu` which is the functional implementation of a rectified linear unit in PyTorch."
   ]
  },
  {
   "cell_type": "markdown",
   "metadata": {},
   "source": [
    "Now we can instantiate the MLP class for our problem:"
   ]
  },
  {
   "cell_type": "code",
   "execution_count": null,
   "metadata": {
    "collapsed": true,
    "jupyter": {
     "outputs_hidden": true
    }
   },
   "outputs": [],
   "source": [
    "feature_count = 4\n",
    "hidden_layer_size = 100\n",
    "class_count = 3\n",
    "model = MLP(feature_count, hidden_layer_size, class_count)"
   ]
  },
  {
   "cell_type": "markdown",
   "metadata": {},
   "source": [
    "Our model produces a scalar value for each class for each example propagated through the network. We need to squash these values into a pseudo-probability distribution. We can do that with the softmax distribution $\\mathrm{softmax} : \\mathbb{R}^n \\rightarrow [0, 1]^n$. It is defined as follows\n",
    "\n",
    "$$\\mathrm{softmax}(\\mathbf{x})_i = \\frac{e^{\\mathbf{x}_i}}{\\sum_j e^{\\mathbf{x}_j}}$$\n",
    "\n",
    "This definition results in the output vector summing to one: $$\\sum_i\\mathrm{softmax}(\\mathbf{x})_i = 1$$"
   ]
  },
  {
   "cell_type": "markdown",
   "metadata": {},
   "source": [
    "To train our network we need some way to measure the error between the output of the network $\\mathbf{\\hat{p}} : [0, 1]^C$ where $C$ is the number of classes and the label encoded into a one-hot representation $y: \\{0, 1\\}^C$. We measure the cross-entropy between them:\n",
    "\n",
    "$$\\mathrm{CE}(\\mathbf{p}, y) = - \\sum_c^C y_c \\log(p_c)$$"
   ]
  },
  {
   "cell_type": "markdown",
   "metadata": {},
   "source": [
    "We'll run a forward pass through the network to compute its predictions which we can then use to compute the loss function."
   ]
  },
  {
   "cell_type": "code",
   "execution_count": null,
   "metadata": {
    "collapsed": true,
    "jupyter": {
     "outputs_hidden": true
    }
   },
   "outputs": [],
   "source": [
    "logits = model.forward(features['train'])\n",
    "logits.shape"
   ]
  },
  {
   "cell_type": "markdown",
   "metadata": {},
   "source": [
    "As you can see `logits` has a shape of (100,3). For each of the 100 data samples we have 3 outputs, one per class. A higher output value (relative to the other values for that data sample) indicates that the model is predicting that class as being more likely."
   ]
  },
  {
   "cell_type": "markdown",
   "metadata": {},
   "source": [
    "**Task:** Compute the loss of the `logits` against the training labels `labels['train']` using the [`nn.CrossEntropyLoss`](https://pytorch.org/docs/1.2.0/nn.html#torch.nn.CrossEntropyLoss) class which combines the softmax and cross entopy functions into a single operation. Save this in a variable called `loss`. \n",
    "\n",
    "Note that you will have to instantiate the class before you can call it on your logits and labels, like so:"
   ]
  },
  {
   "cell_type": "code",
   "execution_count": null,
   "metadata": {},
   "outputs": [],
   "source": [
    "loss_function = nn.CrossEntropyLoss()"
   ]
  },
  {
   "cell_type": "markdown",
   "metadata": {},
   "source": [
    "Then you need to call `loss_function` with the `logits` and `labels['train']` to compute the loss"
   ]
  },
  {
   "cell_type": "markdown",
   "metadata": {},
   "source": [
    "We can now compute the model parameters' gradients by calling `backward()` on the loss."
   ]
  },
  {
   "cell_type": "code",
   "execution_count": null,
   "metadata": {
    "collapsed": true,
    "jupyter": {
     "outputs_hidden": true
    }
   },
   "outputs": [],
   "source": [
    "loss.backward()"
   ]
  },
  {
   "cell_type": "markdown",
   "metadata": {},
   "source": [
    "The gradients will be computed and propagated back through the network."
   ]
  },
  {
   "cell_type": "markdown",
   "metadata": {},
   "source": [
    "We want to evaluate the quality of our networks predictions, accuracy is an informative metric for a classification task on a balanced dataset.\n",
    "\n",
    "**Task:** Implement a function to compute accuracy with the following signature\n",
    "\n",
    "```python\n",
    "def accuracy(probs: torch.FloatTensor, targets: torch.LongTensor) -> float:\n",
    "    \"\"\"\n",
    "    Args:\n",
    "        probs: A float32 tensor of shape ``(batch_size, class_count)`` where each value \n",
    "            at index ``i`` in a row represents the score of class ``i``.\n",
    "        targets: A long tensor of shape ``(batch_size,)`` containing the batch examples'\n",
    "            labels.\n",
    "    \"\"\"\n",
    "    ## First work out which class has been predicted for each data sample. Hint: use argmax\n",
    "    ## Second count how many of these are correctly predicted\n",
    "    ## Finally return the accuracy, i.e. the percentage of samples correctly predicted\n",
    "```    \n",
    "\n",
    "Your implementation should *not* use any `for` loops, instead you should use the operations defined on tensors like `argmax` and `sum`."
   ]
  },
  {
   "cell_type": "markdown",
   "metadata": {},
   "source": [
    "We've also provided some test cases below to verify the correctness of your implementation of `accuracy`."
   ]
  },
  {
   "cell_type": "code",
   "execution_count": null,
   "metadata": {},
   "outputs": [
    {
     "name": "stdout",
     "output_type": "stream",
     "text": [
      "All test cases passed\n"
     ]
    }
   ],
   "source": [
    "def check_accuracy(probs: torch.FloatTensor,\n",
    "                   labels: torch.LongTensor,\n",
    "                   expected_accuracy: float):\n",
    "    actual_accuracy = float(accuracy(probs, labels))\n",
    "    assert actual_accuracy == expected_accuracy, f\"Expected accuracy to be {expected_accuracy} but was {actual_accuracy}\"\n",
    "\n",
    "check_accuracy(torch.tensor([[0, 1],\n",
    "                             [0, 1],\n",
    "                             [0, 1],\n",
    "                             [0, 1],\n",
    "                             [0, 1]]),\n",
    "               torch.ones(5, dtype=torch.long),\n",
    "               1.0)\n",
    "check_accuracy(torch.tensor([[1, 0],\n",
    "                             [0, 1],\n",
    "                             [0, 1],\n",
    "                             [0, 1],\n",
    "                             [0, 1]]),\n",
    "               torch.ones(5, dtype=torch.long),\n",
    "               0.8)\n",
    "check_accuracy(torch.tensor([[1, 0],\n",
    "                             [1, 0],\n",
    "                             [0, 1],\n",
    "                             [0, 1],\n",
    "                             [0, 1]]),\n",
    "               torch.ones(5, dtype=torch.long),\n",
    "               0.6)\n",
    "check_accuracy(torch.tensor([[1, 0],\n",
    "                             [1, 0],\n",
    "                             [1, 0],\n",
    "                             [1, 0],\n",
    "                             [1, 0]]),\n",
    "               torch.ones(5, dtype=torch.long),\n",
    "               0.0)\n",
    "print(\"All test cases passed\")"
   ]
  },
  {
   "cell_type": "markdown",
   "metadata": {},
   "source": [
    "We have our network and a way of computing the error of its output with respect to labels. Now we just need something to optimize the network's weights. We can use stochastic gradient descent (SGD) for this purpose. It is a simple hill descending algorithm, taking a step in the steepest downhill direction (the negative of the gradient) in order to reduce the loss.\n",
    "\n",
    "We now implement the training that optimizes the network's parameters over the dataset repeatedly. Each iteration through the dataset is known as an *epoch*. It is typical to train networks for anywhere between tens to thousands of epochs."
   ]
  },
  {
   "cell_type": "code",
   "execution_count": null,
   "metadata": {},
   "outputs": [
    {
     "name": "stdout",
     "output_type": "stream",
     "text": [
      "epoch: 0 train accuracy: 48.00, loss: 1.22696\n",
      "epoch: 1 train accuracy: 48.00, loss: 1.03830\n",
      "epoch: 2 train accuracy: 72.00, loss: 0.90800\n",
      "epoch: 3 train accuracy: 72.00, loss: 0.82028\n",
      "epoch: 4 train accuracy: 74.00, loss: 0.75852\n",
      "epoch: 5 train accuracy: 77.00, loss: 0.71211\n",
      "epoch: 6 train accuracy: 78.00, loss: 0.67529\n",
      "epoch: 7 train accuracy: 78.00, loss: 0.64492\n",
      "epoch: 8 train accuracy: 79.00, loss: 0.61916\n",
      "epoch: 9 train accuracy: 81.00, loss: 0.59687\n",
      "epoch: 10 train accuracy: 82.00, loss: 0.57729\n",
      "epoch: 11 train accuracy: 83.00, loss: 0.55990\n",
      "epoch: 12 train accuracy: 83.00, loss: 0.54429\n",
      "epoch: 13 train accuracy: 83.00, loss: 0.53019\n",
      "epoch: 14 train accuracy: 83.00, loss: 0.51736\n",
      "epoch: 15 train accuracy: 83.00, loss: 0.50563\n",
      "epoch: 16 train accuracy: 84.00, loss: 0.49484\n",
      "epoch: 17 train accuracy: 84.00, loss: 0.48488\n",
      "epoch: 18 train accuracy: 85.00, loss: 0.47565\n",
      "epoch: 19 train accuracy: 85.00, loss: 0.46706\n",
      "epoch: 20 train accuracy: 86.00, loss: 0.45904\n",
      "epoch: 21 train accuracy: 85.00, loss: 0.45152\n",
      "epoch: 22 train accuracy: 85.00, loss: 0.44447\n",
      "epoch: 23 train accuracy: 85.00, loss: 0.43782\n",
      "epoch: 24 train accuracy: 85.00, loss: 0.43154\n",
      "epoch: 25 train accuracy: 85.00, loss: 0.42559\n",
      "epoch: 26 train accuracy: 86.00, loss: 0.41995\n",
      "epoch: 27 train accuracy: 86.00, loss: 0.41459\n",
      "epoch: 28 train accuracy: 86.00, loss: 0.40947\n",
      "epoch: 29 train accuracy: 87.00, loss: 0.40459\n",
      "epoch: 30 train accuracy: 87.00, loss: 0.39992\n",
      "epoch: 31 train accuracy: 87.00, loss: 0.39544\n",
      "epoch: 32 train accuracy: 88.00, loss: 0.39115\n",
      "epoch: 33 train accuracy: 88.00, loss: 0.38701\n",
      "epoch: 34 train accuracy: 88.00, loss: 0.38303\n",
      "epoch: 35 train accuracy: 88.00, loss: 0.37920\n",
      "epoch: 36 train accuracy: 88.00, loss: 0.37549\n",
      "epoch: 37 train accuracy: 88.00, loss: 0.37191\n",
      "epoch: 38 train accuracy: 88.00, loss: 0.36844\n",
      "epoch: 39 train accuracy: 88.00, loss: 0.36507\n",
      "epoch: 40 train accuracy: 88.00, loss: 0.36181\n",
      "epoch: 41 train accuracy: 88.00, loss: 0.35864\n",
      "epoch: 42 train accuracy: 88.00, loss: 0.35556\n",
      "epoch: 43 train accuracy: 88.00, loss: 0.35256\n",
      "epoch: 44 train accuracy: 88.00, loss: 0.34964\n",
      "epoch: 45 train accuracy: 88.00, loss: 0.34679\n",
      "epoch: 46 train accuracy: 88.00, loss: 0.34401\n",
      "epoch: 47 train accuracy: 88.00, loss: 0.34130\n",
      "epoch: 48 train accuracy: 88.00, loss: 0.33865\n",
      "epoch: 49 train accuracy: 88.00, loss: 0.33605\n",
      "epoch: 50 train accuracy: 88.00, loss: 0.33351\n",
      "epoch: 51 train accuracy: 88.00, loss: 0.33103\n",
      "epoch: 52 train accuracy: 88.00, loss: 0.32859\n",
      "epoch: 53 train accuracy: 88.00, loss: 0.32621\n",
      "epoch: 54 train accuracy: 88.00, loss: 0.32387\n",
      "epoch: 55 train accuracy: 88.00, loss: 0.32157\n",
      "epoch: 56 train accuracy: 88.00, loss: 0.31932\n",
      "epoch: 57 train accuracy: 88.00, loss: 0.31710\n",
      "epoch: 58 train accuracy: 88.00, loss: 0.31493\n",
      "epoch: 59 train accuracy: 88.00, loss: 0.31279\n",
      "epoch: 60 train accuracy: 88.00, loss: 0.31069\n",
      "epoch: 61 train accuracy: 88.00, loss: 0.30862\n",
      "epoch: 62 train accuracy: 88.00, loss: 0.30658\n",
      "epoch: 63 train accuracy: 88.00, loss: 0.30458\n",
      "epoch: 64 train accuracy: 88.00, loss: 0.30261\n",
      "epoch: 65 train accuracy: 88.00, loss: 0.30066\n",
      "epoch: 66 train accuracy: 88.00, loss: 0.29875\n",
      "epoch: 67 train accuracy: 89.00, loss: 0.29686\n",
      "epoch: 68 train accuracy: 89.00, loss: 0.29500\n",
      "epoch: 69 train accuracy: 89.00, loss: 0.29316\n",
      "epoch: 70 train accuracy: 89.00, loss: 0.29135\n",
      "epoch: 71 train accuracy: 89.00, loss: 0.28956\n",
      "epoch: 72 train accuracy: 89.00, loss: 0.28780\n",
      "epoch: 73 train accuracy: 89.00, loss: 0.28606\n",
      "epoch: 74 train accuracy: 90.00, loss: 0.28434\n",
      "epoch: 75 train accuracy: 90.00, loss: 0.28265\n",
      "epoch: 76 train accuracy: 91.00, loss: 0.28097\n",
      "epoch: 77 train accuracy: 91.00, loss: 0.27931\n",
      "epoch: 78 train accuracy: 91.00, loss: 0.27768\n",
      "epoch: 79 train accuracy: 91.00, loss: 0.27606\n",
      "epoch: 80 train accuracy: 91.00, loss: 0.27446\n",
      "epoch: 81 train accuracy: 91.00, loss: 0.27288\n",
      "epoch: 82 train accuracy: 91.00, loss: 0.27132\n",
      "epoch: 83 train accuracy: 91.00, loss: 0.26977\n",
      "epoch: 84 train accuracy: 91.00, loss: 0.26825\n",
      "epoch: 85 train accuracy: 92.00, loss: 0.26674\n",
      "epoch: 86 train accuracy: 92.00, loss: 0.26524\n",
      "epoch: 87 train accuracy: 92.00, loss: 0.26376\n",
      "epoch: 88 train accuracy: 92.00, loss: 0.26230\n",
      "epoch: 89 train accuracy: 92.00, loss: 0.26085\n",
      "epoch: 90 train accuracy: 92.00, loss: 0.25942\n",
      "epoch: 91 train accuracy: 92.00, loss: 0.25800\n",
      "epoch: 92 train accuracy: 92.00, loss: 0.25660\n",
      "epoch: 93 train accuracy: 92.00, loss: 0.25521\n",
      "epoch: 94 train accuracy: 93.00, loss: 0.25383\n",
      "epoch: 95 train accuracy: 93.00, loss: 0.25247\n",
      "epoch: 96 train accuracy: 93.00, loss: 0.25112\n",
      "epoch: 97 train accuracy: 93.00, loss: 0.24978\n",
      "epoch: 98 train accuracy: 93.00, loss: 0.24846\n",
      "epoch: 99 train accuracy: 94.00, loss: 0.24715\n",
      "test accuracy: 92.00\n"
     ]
    }
   ],
   "source": [
    "from torch import optim\n",
    "\n",
    "\n",
    "# Define the model to optimze\n",
    "model = MLP(feature_count, hidden_layer_size, class_count)\n",
    "\n",
    "# The optimizer we'll use to update the model parameters\n",
    "optimizer = optim.SGD(model.parameters(), lr=0.05)\n",
    "\n",
    "# Now we define the loss function.\n",
    "criterion = nn.CrossEntropyLoss() \n",
    "\n",
    "# Now we iterate over the dataset a number of times. Each iteration of the entire dataset \n",
    "# is called an epoch.\n",
    "for epoch in range(0, 100):\n",
    "    # We compute the forward pass of the network\n",
    "    logits = model.forward(features['train'])\n",
    "    # Then the value of loss function \n",
    "    loss = criterion(logits,  labels['train'])\n",
    "    \n",
    "    # How well the network does on the batch is an indication of how well training is \n",
    "    # progressing\n",
    "    print(\"epoch: {} train accuracy: {:2.2f}, loss: {:5.5f}\".format(\n",
    "        epoch,\n",
    "        accuracy(logits, labels['train']) * 100,\n",
    "        loss.item()\n",
    "    ))\n",
    "    \n",
    "    # Now we compute the backward pass, which populates the `.grad` attributes of the parameters\n",
    "    loss.backward()\n",
    "    # Now we update the model parameters using those gradients\n",
    "    optimizer.step()\n",
    "    # Now we need to zero out the `.grad` buffers as otherwise on the next backward pass we'll add the \n",
    "    # new gradients to the old ones.\n",
    "    optimizer.zero_grad()\n",
    "    \n",
    "# Finally we can test our model on the test set and get an unbiased estimate of its performance.    \n",
    "logits = model.forward(features['test'])    \n",
    "test_accuracy = accuracy(logits, labels['test']) * 100\n",
    "print(\"test accuracy: {:2.2f}\".format(test_accuracy))"
   ]
  },
  {
   "cell_type": "markdown",
   "metadata": {},
   "source": [
    "**Task:** Try changing the learning rate `lr` passed in to the `optimizer` and see how this effects accuracy on the test set."
   ]
  },
  {
   "cell_type": "markdown",
   "metadata": {},
   "source": [
    "---\n",
    "## Porting Your Network To BC4\n",
    "\n",
    "Up until this point you've been running your code in a Jupyter notebook on Colaboratory. Whilst this is great for exploration and fiddling with things, it doesn't work well with the way HPC systems work, and also is hard to keep track of changes. We'll take what we've developed so far, and produce a Python script that can train a network and evaluate it.\n",
    "\n",
    "Copy and paste all the code in the notebook cells needed to run the previous code cell, where we defined the training loop, into a script in your favourite editor and save it with the name `train_fully_connected.py`.\n",
    "\n",
    "Let's make a folder on BC4 to house all these files rather than putting them into your home directory. \n",
    "\n",
    "```console\n",
    "$ ssh bc4-external\n",
    "[bc4] $ mkdir -p ~/adl/lab-1\n",
    "[bc4] $ exit\n",
    "$ scp train_fully_connected.py bc4-external:~/adl/lab-1/\n",
    "```\n",
    "\n",
    "Before running the code we'll have to ensure we have the software set up:\n",
    "\n",
    "```console\n",
    "[bc4] $ module load languages/anaconda3/2021-3.8.8-cuda-11.1-pytorch\n",
    "```\n",
    "\n",
    "Now that you've copied your script to BC4, and have the software set up, we can run our code by submitting to the computing node.\n",
    "\n",
    "```console\n",
    "$ ssh bc4-external\n",
    "[bc4] $ srun --job-name lab1 --partition teach_gpu --account COMS030144 --nodes 1 --gres gpu:1 --time 0:10:00 --mem 2GB -o ./log_%j.out -e ./log_%j.err python train_fully_connected.py\n",
    "[bc4] $\n",
    "```\n",
    "\n",
    "Equivalently, you can convert the `srun` command into a script, and submit the script to the computing node:\n",
    "\n",
    "- In the script `train.sh` (you can find it in `./lab-1-dnns/train.sh`):\n",
    "\n",
    "```\n",
    "#!/bin/bash\n",
    "\n",
    "#SBATCH --job-name=lab1\n",
    "#SBATCH --partition=teach_gpu\n",
    "#SBATCH --account=COMS030144\n",
    "#SBATCH --nodes=1\n",
    "#SBATCH -o ./log_%j.out # STDOUT out\n",
    "#SBATCH -e ./log_%j.err # STDERR out\n",
    "#SBATCH --gres=gpu:1\n",
    "#SBATCH --time=0:10:00\n",
    "#SBATCH --mem=2GB\n",
    "\n",
    "module load languages/anaconda3/2021-3.8.8-cuda-11.1-pytorch\n",
    "echo \"Start\"\n",
    "python train_fully_connected.py\n",
    "```\n",
    "\n",
    "**Note:** You may need to update the name of the python file to `train_fully_connected.py` or similar depending on what you called your python file.\n",
    "\n",
    "- Submitting to the computing node:\n",
    "\n",
    "```\n",
    "[bc4] $ sbatch train.sh\n",
    "```\n",
    "\n",
    "You can find the stdout and stderr of your job in `log_#####.out` and `log_#####.err` respectively.\n",
    "\n",
    "Up until this point, we have been executing all our code on a CPU. It's time to actually take advantage of those GPUs! PyTorch has a concept of a _device_, this is some piece of hardware that has both memory and compute capabilities. You can transfer tensors and models onto devices using the `to(device)` method defined on `torch.Tensor` and `nn.Module` objects.\n",
    "\n",
    "**Task:** Modify your code so that\n",
    "\n",
    "1. Define a device for the computation `device = torch.device('cuda')` at the start of your code\n",
    "2. Move model to the GPU: `model = model.to(device)` after you define `model = MLP(...)`\n",
    "3. Move train features to the gpu: `features[\"train\"] = features[\"train\"].to(device)` after defining `features`\n",
    "4. Move test features to the gpu: `features[\"test\"] = features[\"test\"].to(device)`\n",
    "5. Move labels to the gpu: `labels[\"train\"] = labels[\"train\"].to(device)` and `labels[\"test\"] = labels[\"test\"].to(device)`\n",
    "\n",
    "Now rerun the code and see that it runs a little faster. The speed is not that noticeable for such a small network, but when we move to larger networks you'll find the GPU orders of magnitude quicker.\n",
    "\n",
    "If you get an error similar to `Expected object of device type cuda but got device type cpu` then either the model or the features/labels were not copied over to the gpu. Below we list the common errors you might encounter at this stage and the reasons for these errors. Feel free to ask a TA for help understanding the error you are getting.\n",
    "\n",
    "`RuntimeError: Expected object of device type cuda but got device type cpu for argument #1 'self'...`\\\n",
    "Your model may still be on the cpu. Make sure you aren't redefining `model` after moving it to the gpu.\n",
    "\n",
    "`RuntimeError: Expected object of device type cuda but got device type cpu for argument #2 'mat1'...`\\\n",
    "This means `features['train']` or `features['test']` is likely still on the cpu.\n",
    "\n",
    "`RuntimeError: Expected object of device type cuda but got device type cpu for argument #2 'target'...`\\\n",
    "This means `labels['train']` is likely still on the cpu.\n",
    "\n",
    "`RuntimeError: expected device cuda:0 but got device cpu`\\\n",
    "Depending on your implementation, this may mean `labels['test']` is still on the cpu\n",
    "\n",
    "`NameError: name 'device' is not defined`\\\n",
    "Make sure `device = torch.device('cuda')` is before any of the other lines which use `device`\n"
   ]
  },
  {
   "cell_type": "markdown",
   "metadata": {},
   "source": [
    "---\n",
    "\n",
    "## Logging Performance Metrics\n",
    "\n",
    "To monitor training, use Tensorboard, a real-time graphing tool to emerge from the TensorFlow project. With tensorboard you can log metrics in real time from a python script and visualise them in a web browser.\n",
    "\n",
    "PyTorch has native support for tensorboard (as of 1.1.0). There are two parts to tensorboard\n",
    "1. A `SummaryWriter`, this is an object you'll instantiate in your code, you can use it to log tensors, scalars, images, audio, and more. It will serialise and write these objects to disk into a log directory.\n",
    "2. The `tensorboard` executable which launches a web server that provides an interface graphing the data that you have logged.\n",
    "\n",
    "Let's log the training accuracy and loss.\n",
    "\n",
    "First we need to import `SummaryWriter` and instantiate it.\n",
    "\n",
    "```python\n",
    "from torch.utils.tensorboard import SummaryWriter\n",
    "\n",
    "summary_writer = SummaryWriter('logs', flush_secs=5)\n",
    "```\n",
    "\n",
    "Now **within the training loop**, log the scalar accuracy value and training loss:\n",
    "\n",
    "```python\n",
    "train_accuracy = accuracy(logits, labels['train']) * 100\n",
    "summary_writer.add_scalar('accuracy/train', train_accuracy, epoch)\n",
    "summary_writer.add_scalar('loss/train', loss.item(), epoch)\n",
    "```\n",
    "\n",
    "Close the writer **outside** the training loop\n",
    "\n",
    "```python\n",
    "summary_writer.close()\n",
    "```\n",
    "\n",
    "Now run your code again, you should have a `logs` directory in your working directory. This contains the values written by the summary writer. We can visualise these using `tensorboard`. \n",
    "\n",
    "To do so, we'll run `tensorboard` on a BC4, but we'll need to forward the TCP port to your own computer. \n",
    "\n",
    "```console\n",
    "[bc4-compute-node] $ PORT=$((($UID-6025) % 65274))\n",
    "[bc4-compute-node] $ echo $PORT\n",
    "<PORT>\n",
    "[bc4-compute-node] $ hostname -s\n",
    "<HOSTNAME>\n",
    "[bc4-compute-node] $ tensorboard --logdir logs --port $PORT --bind_all\n",
    "TensorBoard 1.14.0 at http://<HOSTNAME>.acrc.bris.ac.uk:<PORT>/ (Press CTRL+C to quit)\n",
    "```\n",
    "\n",
    "\n",
    "**Note** If you get an issue with `tensorboard: command not found`, this is because you haven't loaded the unit's module. Simply run\n",
    "```console\n",
    "[bc4] $ module load languages/anaconda3/2021-3.8.8-cuda-11.1-pytorch  \n",
    "```\n",
    "to load it.\n",
    "\n",
    "To avoid having to do this every time you log in to BC4, append it to your `~/.bashrc` file by running\n",
    "\n",
    "```console\n",
    "[bc4] $ echo \"module load languages/anaconda3/2021-3.8.8-cuda-11.1-pytorch\" > ~/.bashrc\n",
    "```\n",
    "\n",
    "Open up a new console window on your laptop and run the following, replacing `<HOSTNAME>` and `<PORT>` with those obtained above.\n",
    "\n",
    "```console\n",
    "$ ssh -N -L 6006:<HOSTNAME>:<PORT> bc4-external\n",
    "```\n",
    "\n",
    "- `-N` tells SSH not to create a new terminal session on the remote host\n",
    "- `-L <local-port>:<remote-address>:<remote-port>` tells SSH to forward traffic on port `<local-port>` on your machine to port `<remote-port>` on the machine at `<remote-address>`.\n",
    "\n",
    "Now visit http://localhost:6006, you should see something similar to the screen below\n",
    "\n",
    "![Tensorboard landing page](./media/tensorboard-landing-page.png)\n",
    "\n",
    "The x-axis is the number of steps we've trained for.\n",
    "\n",
    "By default tensorboard smoothes your data by computing a running average. You can adjust this smoothing using the slider in the left side bar. We'd recommend turning this off to begin with as the smoothing can be deceptive and hide issues with training."
   ]
  },
  {
   "cell_type": "markdown",
   "metadata": {},
   "source": [
    "**Congratulations.** \n",
    "\n",
    "You've trained your first NN model. This concludes the first lab. "
   ]
  },
  {
   "cell_type": "markdown",
   "metadata": {},
   "source": [
    "# END of Lab 1\n",
    "\n",
    "If you would like to learn more, we offer additional extensions below.\n"
   ]
  },
  {
   "cell_type": "markdown",
   "metadata": {},
   "source": [
    "---\n",
    "\n",
    "# Optional Extension: Implementing library functions\n",
    "\n",
    "Read on if you wish to open the black box and better understand how the library functions you used are implemented."
   ]
  },
  {
   "cell_type": "markdown",
   "metadata": {},
   "source": [
    "## Implementing ReLU \n",
    "We used the ReLU function as the non linearity in our network.\n",
    "\n",
    "$$\\mathrm{ReLU}(\\mathbf{x}) = \\max(\\mathbf{x}, \\mathbf{0})$$\n",
    "\n",
    "How is this implemented?\n",
    "\n",
    "First we compute a binary tensor indicating which elements are less than 0 by doing an element-wise comparison. We then use this as a mask to set those elements of the vector to 0."
   ]
  },
  {
   "cell_type": "code",
   "execution_count": null,
   "metadata": {
    "collapsed": true,
    "jupyter": {
     "outputs_hidden": true
    }
   },
   "outputs": [],
   "source": [
    "def relu(inputs: torch.Tensor) -> torch.Tensor:\n",
    "    # We take a copy of the input as otherwise we'll be modifying it in\n",
    "    # place which makes it harder to debug.\n",
    "    outputs = inputs.clone()  \n",
    "    outputs[inputs < 0] = 0\n",
    "    return outputs"
   ]
  },
  {
   "cell_type": "markdown",
   "metadata": {},
   "source": [
    "**Task:** Test the `relu` function with a randomly generated tensor to check that all the values that are less than 0 are set to 0. Additionally, check that the input to the `relu` function wasn't modified (i.e. a new tensor was produced). This is a common implementation bug where you pass a tensor to a function expecting it to be idempotent, but it actually modifies its input. It is more memory efficient to compute ReLU in place but you have to be careful that you don't mind updating the tensor input to the function."
   ]
  },
  {
   "cell_type": "markdown",
   "metadata": {},
   "source": [
    "## Implementing Softmax and Cross entropy\n",
    "We used the softmax function to squash our raw network outputs from the range $\\mathbb{R}^n \\rightarrow [0, 1]^n$. Implementing softmax is quite interesting as the naive implementation that is a direct translation of the equation suffers from numerical stability problems.\n",
    "\n",
    "**Task:** Implement softmax and cross entropy exactly as they are defined below with the signatures `softmax(logits: torch.Tensor) -> torch.Tensor` and `cross_entropy(logits: torch.FloatTensor, labels: torch.LongTensor) -> torch.FloatTensor`\n",
    "\n",
    "\n",
    "$$\\mathrm{softmax}(\\mathbf{x})_i = \\frac{e^{\\mathbf{x}_i}}{\\sum_j e^{\\mathbf{x}_j}}$$\n",
    "\n",
    "$$\\mathrm{CE}(\\mathbf{p}, y) = - \\sum_c^C y_c \\log(p_c)$$\n",
    "\n",
    "Replace the definition of `criterion` in the training loop with \n",
    "```python\n",
    "criterion = lambda logits, ys: cross_entropy(softmax(logits), ys)\n",
    "```"
   ]
  },
  {
   "cell_type": "markdown",
   "metadata": {},
   "source": [
    "### Supplementary material\n",
    "\n",
    "The following notebooks walk through *optional* material.\n",
    "\n",
    "1. [Local Jupyter Lab setup](../misc/local-environment-setup.ipynb) - How to install Jupyter and set up your environment for exploring pytorch on your own machine.\n",
    "2. [Autodifferentiation in pytorch](../misc/autograd-explanation.ipynb) - An explanation of how PyTorch performs auto differentiation."
   ]
  }
 ],
 "metadata": {
  "kernelspec": {
   "display_name": "Python 3 (ipykernel)",
   "language": "python",
   "name": "python3"
  },
  "language_info": {
   "codemirror_mode": {
    "name": "ipython",
    "version": 3
   },
   "file_extension": ".py",
   "mimetype": "text/x-python",
   "name": "python",
   "nbconvert_exporter": "python",
   "pygments_lexer": "ipython3",
   "version": "3.8.13"
  }
 },
 "nbformat": 4,
 "nbformat_minor": 4
}
